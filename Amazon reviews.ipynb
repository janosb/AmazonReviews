{
 "cells": [
  {
   "cell_type": "code",
   "execution_count": 157,
   "metadata": {},
   "outputs": [],
   "source": [
    "%matplotlib inline\n",
    "\n",
    "import pandas as pd\n",
    "import sklearn as sk\n",
    "import matplotlib.pyplot as plt\n",
    "import numpy as np\n",
    "import nltk\n",
    "\n",
    "df_all = pd.read_csv('amazon_review_full_csv/train.csv', header=None)\n",
    "df_all.columns = ['rating', 'title', 'body']\n",
    "\n",
    "df = df_all.head(100000).copy()\n",
    "df_test = df_all.tail(1000).copy()"
   ]
  },
  {
   "cell_type": "code",
   "execution_count": 18,
   "metadata": {},
   "outputs": [
    {
     "data": {
      "text/html": [
       "<div>\n",
       "<style scoped>\n",
       "    .dataframe tbody tr th:only-of-type {\n",
       "        vertical-align: middle;\n",
       "    }\n",
       "\n",
       "    .dataframe tbody tr th {\n",
       "        vertical-align: top;\n",
       "    }\n",
       "\n",
       "    .dataframe thead th {\n",
       "        text-align: right;\n",
       "    }\n",
       "</style>\n",
       "<table border=\"1\" class=\"dataframe\">\n",
       "  <thead>\n",
       "    <tr style=\"text-align: right;\">\n",
       "      <th></th>\n",
       "      <th>rating</th>\n",
       "      <th>title</th>\n",
       "      <th>body</th>\n",
       "    </tr>\n",
       "  </thead>\n",
       "  <tbody>\n",
       "    <tr>\n",
       "      <th>0</th>\n",
       "      <td>3</td>\n",
       "      <td>more like funchuck</td>\n",
       "      <td>Gave this to my dad for a gag gift after direc...</td>\n",
       "    </tr>\n",
       "    <tr>\n",
       "      <th>1</th>\n",
       "      <td>5</td>\n",
       "      <td>Inspiring</td>\n",
       "      <td>I hope a lot of people hear this cd. We need m...</td>\n",
       "    </tr>\n",
       "    <tr>\n",
       "      <th>2</th>\n",
       "      <td>5</td>\n",
       "      <td>The best soundtrack ever to anything.</td>\n",
       "      <td>I'm reading a lot of reviews saying that this ...</td>\n",
       "    </tr>\n",
       "    <tr>\n",
       "      <th>3</th>\n",
       "      <td>4</td>\n",
       "      <td>Chrono Cross OST</td>\n",
       "      <td>The music of Yasunori Misuda is without questi...</td>\n",
       "    </tr>\n",
       "    <tr>\n",
       "      <th>4</th>\n",
       "      <td>5</td>\n",
       "      <td>Too good to be true</td>\n",
       "      <td>Probably the greatest soundtrack in history! U...</td>\n",
       "    </tr>\n",
       "    <tr>\n",
       "      <th>5</th>\n",
       "      <td>5</td>\n",
       "      <td>There's a reason for the price</td>\n",
       "      <td>There's a reason this CD is so expensive, even...</td>\n",
       "    </tr>\n",
       "    <tr>\n",
       "      <th>6</th>\n",
       "      <td>1</td>\n",
       "      <td>Buyer beware</td>\n",
       "      <td>This is a self-published book, and if you want...</td>\n",
       "    </tr>\n",
       "    <tr>\n",
       "      <th>7</th>\n",
       "      <td>4</td>\n",
       "      <td>Errors, but great story</td>\n",
       "      <td>I was a dissapointed to see errors on the back...</td>\n",
       "    </tr>\n",
       "    <tr>\n",
       "      <th>8</th>\n",
       "      <td>1</td>\n",
       "      <td>The Worst!</td>\n",
       "      <td>A complete waste of time. Typographical errors...</td>\n",
       "    </tr>\n",
       "    <tr>\n",
       "      <th>9</th>\n",
       "      <td>1</td>\n",
       "      <td>Oh please</td>\n",
       "      <td>I guess you have to be a romance novel lover f...</td>\n",
       "    </tr>\n",
       "  </tbody>\n",
       "</table>\n",
       "</div>"
      ],
      "text/plain": [
       "   rating                                  title  \\\n",
       "0       3                     more like funchuck   \n",
       "1       5                              Inspiring   \n",
       "2       5  The best soundtrack ever to anything.   \n",
       "3       4                       Chrono Cross OST   \n",
       "4       5                    Too good to be true   \n",
       "5       5         There's a reason for the price   \n",
       "6       1                           Buyer beware   \n",
       "7       4                Errors, but great story   \n",
       "8       1                             The Worst!   \n",
       "9       1                              Oh please   \n",
       "\n",
       "                                                body  \n",
       "0  Gave this to my dad for a gag gift after direc...  \n",
       "1  I hope a lot of people hear this cd. We need m...  \n",
       "2  I'm reading a lot of reviews saying that this ...  \n",
       "3  The music of Yasunori Misuda is without questi...  \n",
       "4  Probably the greatest soundtrack in history! U...  \n",
       "5  There's a reason this CD is so expensive, even...  \n",
       "6  This is a self-published book, and if you want...  \n",
       "7  I was a dissapointed to see errors on the back...  \n",
       "8  A complete waste of time. Typographical errors...  \n",
       "9  I guess you have to be a romance novel lover f...  "
      ]
     },
     "execution_count": 18,
     "metadata": {},
     "output_type": "execute_result"
    }
   ],
   "source": [
    "df.head(10)"
   ]
  },
  {
   "cell_type": "markdown",
   "metadata": {},
   "source": [
    "## Data processing and exploration\n"
   ]
  },
  {
   "cell_type": "code",
   "execution_count": 166,
   "metadata": {},
   "outputs": [],
   "source": [
    "from nltk.corpus import stopwords\n",
    "import string\n",
    "stop_words = set(stopwords.words('english') + list(string.punctuation) \n",
    "                 + ['...', 'n\\'t', '\\'\\'', '``', '\\'s'])\n",
    "wnl = nltk.WordNetLemmatizer()\n",
    "\n",
    "def process_string(s):\n",
    "    if s == '':\n",
    "        return []\n",
    "    tokens = nltk.word_tokenize(s.lower())\n",
    "    # remove stopwords\n",
    "    return [wnl.lemmatize(w) for w in tokens if not w in stop_words]\n",
    "    \n",
    "\n",
    "df.title.fillna('', inplace=True)\n",
    "all_doc_titles = [process_string(x) for x in df.title.values]\n",
    "all_titles = np.hstack(all_doc_titles)\n",
    "fd_titles = nltk.FreqDist(all_titles)\n",
    "\n",
    "all_doc_body = [process_string(x) for x in df.body.values]\n",
    "all_body = np.hstack(all_doc_body)\n",
    "fd_body = nltk.FreqDist(all_body)"
   ]
  },
  {
   "cell_type": "code",
   "execution_count": 167,
   "metadata": {},
   "outputs": [
    {
     "name": "stdout",
     "output_type": "stream",
     "text": [
      "[('good', 7367), ('great', 6932), ('book', 5353), ('movie', 3227), ('best', 2585), ('one', 2162), ('read', 2104), ('bad', 1905), ('work', 1688), ('better', 1552), ('love', 1453), ('time', 1253), ('like', 1195), ('buy', 1174), ('story', 1173), ('excellent', 1148), ('review', 1139), ('classic', 1128), ('product', 1090), ('ever', 1084)]\n",
      "[('book', 66762), ('one', 38334), ('movie', 31527), ('like', 31046), ('good', 28108), ('would', 25988), ('read', 23314), ('time', 22498), ('great', 22044), ('get', 20940), ('really', 17331), ('story', 16295), ('much', 15406), ('first', 14420), ('well', 14172), ('make', 13396), ('love', 13134), ('even', 13097), ('could', 13056), ('work', 12273)]\n"
     ]
    }
   ],
   "source": [
    "print(fd_titles.most_common(20))\n",
    "print(fd_body.most_common(20))"
   ]
  },
  {
   "cell_type": "code",
   "execution_count": 58,
   "metadata": {},
   "outputs": [],
   "source": [
    "#titles = [nltk.Text(tokens) for tokens in all_doc_titles]\n",
    "#bodies = [nltk.Text(tokens) for tokens in all_doc_body]"
   ]
  },
  {
   "cell_type": "code",
   "execution_count": 168,
   "metadata": {},
   "outputs": [],
   "source": [
    "from gensim import corpora, models, similarities\n",
    "\n",
    "dictionary = corpora.Dictionary(all_doc_body)\n",
    "corpus = [dictionary.doc2bow(text) for text in all_doc_body]"
   ]
  },
  {
   "cell_type": "code",
   "execution_count": 151,
   "metadata": {},
   "outputs": [],
   "source": [
    "#tfidf = models.TfidfModel(corpus) \n",
    "#corpus_tfidf = tfidf[corpus]\n",
    "#print(corpus_tfidf[0])"
   ]
  },
  {
   "cell_type": "code",
   "execution_count": 169,
   "metadata": {},
   "outputs": [],
   "source": [
    "#lsi = models.LsiModel(corpus_tfidf, id2word=dictionary, num_topics=2)\n",
    "#corpus_lsi = lsi[corpus_tfidf]\n",
    "\n",
    "lda = models.LdaModel(corpus, id2word=dictionary, num_topics=5)"
   ]
  },
  {
   "cell_type": "code",
   "execution_count": 170,
   "metadata": {},
   "outputs": [
    {
     "data": {
      "text/plain": [
       "[(0,\n",
       "  '0.054*\"book\" + 0.019*\"read\" + 0.009*\"story\" + 0.008*\"one\" + 0.007*\"character\" + 0.007*\"would\" + 0.007*\"reading\" + 0.006*\"like\" + 0.006*\"time\" + 0.006*\"good\"'),\n",
       " (1,\n",
       "  '0.016*\"album\" + 0.015*\"song\" + 0.014*\"cd\" + 0.013*\"like\" + 0.011*\"music\" + 0.010*\"one\" + 0.009*\"sound\" + 0.009*\"dvd\" + 0.008*\"great\" + 0.008*\"good\"'),\n",
       " (2,\n",
       "  '0.016*\"game\" + 0.007*\"like\" + 0.005*\"use\" + 0.005*\"would\" + 0.005*\"also\" + 0.005*\"one\" + 0.004*\"get\" + 0.004*\"make\" + 0.004*\"look\" + 0.004*\"good\"'),\n",
       " (3,\n",
       "  '0.035*\"movie\" + 0.012*\"film\" + 0.011*\"one\" + 0.009*\"good\" + 0.009*\"like\" + 0.006*\"really\" + 0.006*\"time\" + 0.006*\"see\" + 0.006*\"great\" + 0.006*\"bad\"'),\n",
       " (4,\n",
       "  '0.011*\"one\" + 0.010*\"would\" + 0.009*\"product\" + 0.008*\"work\" + 0.008*\"get\" + 0.007*\"time\" + 0.007*\"bought\" + 0.006*\"use\" + 0.006*\"good\" + 0.006*\"year\"')]"
      ]
     },
     "execution_count": 170,
     "metadata": {},
     "output_type": "execute_result"
    }
   ],
   "source": [
    "lda.print_topics()"
   ]
  },
  {
   "cell_type": "code",
   "execution_count": 163,
   "metadata": {},
   "outputs": [],
   "source": [
    "# test set\n",
    "test_bodies = [process_string(x) for x in df_test.body.values]\n",
    "test_corpus = [dictionary.doc2bow(text) for text in test_bodies]\n",
    "\n",
    "index = similarities.MatrixSimilarity(lda[test_corpus])"
   ]
  },
  {
   "cell_type": "code",
   "execution_count": 164,
   "metadata": {},
   "outputs": [],
   "source": [
    "sims = index[lda[test_corpus]]"
   ]
  },
  {
   "cell_type": "code",
   "execution_count": 165,
   "metadata": {},
   "outputs": [
    {
     "name": "stdout",
     "output_type": "stream",
     "text": [
      "['expansion', '...', 'cheaper', 'would', 'go', 'star', 'fix', 'original', 'engine', 'outstanding', \"n't\", 'already', 'played', 'icewind', 'dale', 'playing', 'first', 'time', 'expansion', \"'ll\", 'get', 'lot', 'money', 'already', 'completed', 'i.d', 'hungry', \"n't\", 'think', 'calm', 'hunger', \"'s\", 'like', 'snack', 'meal', 'bonus', 'mission', 'lot', 'fun', 'brief', 'simple', 'least', 'one', 'extra', 'long', 'term', 'quest', 'would', 'appreciated', 'shelling', '``', 'money', \"''\", 'advice', 'wait', 'price', 'go']\n",
      "912\n",
      "(912, 0.9999986) ['purchase', 'described', 'fast', 'shipped', 'great', 'condition', 'son', 'act', 'favorite', 'thomas', 'episode', 'rest', 'train', 'look', 'good', 'constructed', 'well', 'changing', 'battery', 'little', 'cumbersome', 'protects', 'motor', 'working', '``', 'bit', \"''\", 'petty', 'well']\n",
      "672\n",
      "(672, 0.9999926) ['love', 'ipaq', 'lack', 'service', 'provided', 'compaq', 'make', 'project', 'almost', 'worthless', 'finally', 'get', 'finished', 'transferred', 'one', 'line', 'another', 'person', 'line', 'even', 'begin', 'help', 'even', 'worse', 'trying', 'get', 'anything', 'information', 'web', 'site', 'worthless', 'strong', 'distaste', 'anything', 'related', 'compaq']\n",
      "164\n",
      "(164, 0.9999653) ['disappointment', 'far', 'playable', \"'m\", '31', 'new', 'guitar', \"n't\", 'much', 'compare', 'said', 'guitar', 'good', 'condition', 'dvd', 'come', 'taught', 'lot', 'amp', 'plenty', 'powerful', 'rockin', 'basement', 'distortion', 'switch', 'instantly', 'transform', 'sound', 'powerful', 'rock', 'guitar', 'combined', 'pickup', 'switch', 'guitar', 'get', 'good', 'range', 'sound', 'clean', 'jazz', 'guitar', 'crunchy', 'distorted', 'rock', 'sound.the', 'dvd', 'tuner', 'included', 'package', 'great', 'extra', 'first', 'time', 'player.my', 'package', 'missing', 'item', 'arrived', 'pick', 'xtra', 'string', 'tuner', 'strap', 'contacted', 'amazon', 'marketplace', 'vendor', 'got', 'part', 'shipped', 'problem']\n",
      "670\n",
      "(670, 0.99996257) ['gyroscope', 'fine', 'pull', 'string', 'seeming', 'wear', 'already', 'could', 'use', 'second', 'pull', 'enjoyable', 'though']\n",
      "354\n",
      "(354, 0.9999609) ['two', 'year', 'old', 'son', 'received', '``', 'hand', \"''\", 'train', 'friend', 'hour', 'play', 'started', 'making', 'annoying', 'noise', 'bought', 'new', 'one', 'thing', 'started', 'happening', 'seems', 'like', 'something', 'wheels/gears', '``', 'rub', \"''\", 'train', 'slows', 'make', 'high', 'pitched', 'noise', 'son', 'keep', 'asking', '``', 'noise', 'choo-choo', \"''\", 'told', 'went', 'bye-bye']\n",
      "410\n",
      "(410, 0.9999553) ['re-released', '``', 'harmony', \"''\", '``', 'u', 'lighting', 'america', \"''\", '``', 'ul', \"''\", 'logo', 'make', 'look', 'like', \"'re\", 'ul', 'listed.it', 'appears', 'one', 'actual', 'type', 'dimmable', '23w', 'cfl', 'china', 'high', 'failure', 'rate', '6000', 'hour', '``', 'warranty', \"''\", '.i', 'could', \"n't\", 'get', 'warranty', 'mine', 'failed', 'day', 'installed', 'seller', 'also', 'would', \"n't\", 'take', 'back.so', 'basically', 'avoid', 'bulb', 'go', 'sylvania', 'earthmate', 'ge', 'brand', 'good', 'review']\n",
      "344\n",
      "(344, 0.9999445) ['bought', 'battery-powered', 'percy', '22-mo-old', 'son', 'x-mas', 'interest', 'x-mas', 'present', 'opening', 'one', 'unfortunately', 'first', 'thing', 'opened', 'played', 'percy', 'every', 'day', 'since', 'x-mas', 'suddenly', 'percy', 'died-', 'back', 'wheel', 'longer', 'turn', 'hoped', 'price', 'would', 'last', 'longer', 'also', 'must', 'mention', 'difficulty', 'staying', 'track', 'curves-', 'thomas', 'track', 'generic', 'percy', 'kept', 'falling', 'especially', 'pulling', 'car', 'suppose', \"'ll\", 'returning', 'reading', 'review', 'may', 'exchange', 'two', 'wooden', 'engine', 'instead-', \"n't\", 'break', 'f.y.i.-', 'brio', \"'s\", 'imaginarium', \"'s\", 'battery-powered', 'engine', \"n't\", 'much', 'better-', 'use', 'battery', 'like', \"n't\", 'know', 'positive', 'side', 'percy', 'thoroughly', 'enjoyed', 'son', 'lasted', 'speed', 'power', 'longer', 'battery', 'life', 'brio', 'imaginarium', 'engine']\n",
      "74\n",
      "(74, 0.9999132) ['meant', '4', 'star', '2.', 'oops', 'grew', '1980', \"'s\", 'like', 'particular', 'double', 'feature', 'editon', 'seem', 'savory', 'although', '2', 'different', 'film', 'thematically', 'terminator', 'robocop', 'deal', 'cool', 'cyborg', 'story', 'remember', 'loving', 'film', 'kid', 'concept', 'film', 'one', 'package', 'brainer', 'especially', \"n't\", 'dvd', 'library', 'already', 'bottom', 'line', 'wo', \"n't\", 'get', 'wall-to-wall', 'cyborg', 'action', 'one', 'package', 'beauty']\n",
      "923\n",
      "(923, 0.9999123) ['bought', 'use', '``', 'step2', 'deluxe', 'canyon', 'road', 'train', 'track', \"''\", 'although', 'fit', 'part', 'track', 'slow', 'real', 'slow.it', 'made', 'well', 'powerful', 'though', 'son', 'us', 'push', '9', 'hot', 'wheel', 'car', 'around', 'track.just', 'wish', 'faster', 'got', 'bored', 'day']\n"
     ]
    }
   ],
   "source": [
    "# test a document and look at similar documents:\n",
    "ix = 10\n",
    "test_text = test_bodies[ix]\n",
    "print(test_text)\n",
    "\n",
    "sorted_sims = sorted(enumerate(sims[ix]), key= lambda x: x[1], reverse=True)\n",
    "\n",
    "for i in range(1,10):\n",
    "    print(sorted_sims[i][0])\n",
    "    print(sorted_sims[i], test_bodies[sorted_sims[i][0]])"
   ]
  },
  {
   "cell_type": "code",
   "execution_count": 147,
   "metadata": {},
   "outputs": [
    {
     "data": {
      "text/plain": [
       "(3000000, 3)"
      ]
     },
     "execution_count": 147,
     "metadata": {},
     "output_type": "execute_result"
    }
   ],
   "source": []
  },
  {
   "cell_type": "code",
   "execution_count": null,
   "metadata": {},
   "outputs": [],
   "source": []
  }
 ],
 "metadata": {
  "kernelspec": {
   "display_name": "Python 3",
   "language": "python",
   "name": "python3"
  },
  "language_info": {
   "codemirror_mode": {
    "name": "ipython",
    "version": 3
   },
   "file_extension": ".py",
   "mimetype": "text/x-python",
   "name": "python",
   "nbconvert_exporter": "python",
   "pygments_lexer": "ipython3",
   "version": "3.6.3"
  }
 },
 "nbformat": 4,
 "nbformat_minor": 2
}
